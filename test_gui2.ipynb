{
 "cells": [
  {
   "cell_type": "code",
   "execution_count": 6,
   "metadata": {
    "collapsed": true
   },
   "outputs": [],
   "source": [
    "import sys\n",
    "from PyQt4.QtGui import *"
   ]
  },
  {
   "cell_type": "code",
   "execution_count": 7,
   "metadata": {
    "collapsed": true
   },
   "outputs": [],
   "source": [
    "class TestWidget(QWidget):\n",
    "    def __init__(self):\n",
    "        QWidget.__init__(self, windowTitle=u\"A Simple Example for PyQt.\")\n",
    "        self.outputArea=QTextBrowser(self)\n",
    "        self.helloButton=QPushButton(self.trUtf8(\"問候(&S)\"), self)\n",
    "        self.setLayout(QVBoxLayout())\n",
    "        self.layout().addWidget(self.outputArea)\n",
    "        self.layout().addWidget(self.helloButton)\n",
    "\n",
    "        self.helloButton.clicked.connect(self.sayHello)\n",
    "\n",
    "    def sayHello(self):\n",
    "        yourName, okay=QInputDialog.getText(self, self.trUtf8(\"請問你的名字是?\"), self.trUtf8(b\"名字\"))\n",
    "        if not okay or yourName==u\"\": #用戶沒有輸入名字，或者是點了取消\n",
    "            self.outputArea.append(self.trUtf8(\"你好，陌生人！\"))\n",
    "        else:\n",
    "            self.outputArea.append(self.trUtf8(\"你好，<b>%1</b>。\").arg(yourName))"
   ]
  },
  {
   "cell_type": "code",
   "execution_count": null,
   "metadata": {
    "collapsed": true
   },
   "outputs": [],
   "source": [
    "app=QApplication(sys.argv)\n",
    "testWidget=TestWidget()\n",
    "testWidget.show()\n",
    "sys.exit(app.exec_())"
   ]
  },
  {
   "cell_type": "code",
   "execution_count": null,
   "metadata": {
    "collapsed": true
   },
   "outputs": [],
   "source": []
  }
 ],
 "metadata": {
  "kernelspec": {
   "display_name": "Python 2",
   "language": "python",
   "name": "python2"
  },
  "language_info": {
   "codemirror_mode": {
    "name": "ipython",
    "version": 2
   },
   "file_extension": ".py",
   "mimetype": "text/x-python",
   "name": "python",
   "nbconvert_exporter": "python",
   "pygments_lexer": "ipython2",
   "version": "2.7.6"
  }
 },
 "nbformat": 4,
 "nbformat_minor": 0
}

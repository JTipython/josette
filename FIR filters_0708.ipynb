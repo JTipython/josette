{
 "cells": [
  {
   "cell_type": "code",
   "execution_count": 1,
   "metadata": {
    "collapsed": false
   },
   "outputs": [
    {
     "name": "stderr",
     "output_type": "stream",
     "text": [
      "C:\\Python27\\lib\\site-packages\\numpy\\core\\numeric.py:460: ComplexWarning: Casting complex values to real discards the imaginary part\n",
      "  return array(a, dtype, copy=False, order=order)\n"
     ]
    },
    {
     "ename": "SystemExit",
     "evalue": "0",
     "output_type": "error",
     "traceback": [
      "An exception has occurred, use %tb to see the full traceback.\n",
      "\u001b[1;31mSystemExit\u001b[0m\u001b[1;31m:\u001b[0m 0\n"
     ]
    },
    {
     "name": "stderr",
     "output_type": "stream",
     "text": [
      "To exit: use 'exit', 'quit', or Ctrl-D.\n"
     ]
    }
   ],
   "source": [
    "import sys\n",
    "from PyQt4 import QtGui\n",
    " \n",
    "from matplotlib.backends.backend_qt4agg import FigureCanvasQTAgg as FigureCanvas\n",
    "from matplotlib.backends.backend_qt4agg import NavigationToolbar2QTAgg as NavigationToolbar\n",
    "import matplotlib.pyplot as plt\n",
    "import numpy as np\n",
    "from scipy import signal\n",
    " \n",
    "class Window(QtGui.QDialog):\n",
    "    def __init__(self, parent=None):\n",
    "        super(Window, self).__init__(parent)\n",
    "        self.resize(1000, 800)\n",
    "        self.figure = plt.figure()\n",
    "        self.canvas = FigureCanvas(self.figure)\n",
    " \n",
    "         \n",
    "        self.toolbar = NavigationToolbar(self.canvas, self)\n",
    "        self.toolbar.hide()\n",
    " \n",
    "        # Just some button \n",
    "        self.button = QtGui.QPushButton('Plot')\n",
    "        self.button.clicked.connect(self.plot)\n",
    "        \n",
    "        self.button4 = QtGui.QPushButton('mag')\n",
    "        self.button4.clicked.connect(self.mag)\n",
    "        \n",
    "        #self.button5 = QtGui.QPushButton('phase')\n",
    "        #self.button5.clicked.connect(self.pha)\n",
    "        \n",
    "        self.button6 = QtGui.QPushButton('after')\n",
    "        self.button6.clicked.connect(self.plotafter)\n",
    "        \n",
    "        #self.button1 = QtGui.QPushButton('Zoom')\n",
    "        #self.button1.clicked.connect(self.zoom)\n",
    "         \n",
    "        #self.button2 = QtGui.QPushButton('Pan')\n",
    "        #self.button2.clicked.connect(self.pan)\n",
    "         \n",
    "        #self.button3 = QtGui.QPushButton('Home')\n",
    "        #self.button3.clicked.connect(self.home)\n",
    " \n",
    "        # set the layout\n",
    "        layout = QtGui.QVBoxLayout()\n",
    "        layout.addWidget(self.toolbar)\n",
    "        layout.addWidget(self.canvas)\n",
    "        layout.addWidget(self.button)\n",
    "        #layout.addWidget(self.button1)\n",
    "        #layout.addWidget(self.button2)\n",
    "        #layout.addWidget(self.button3)\n",
    "        layout.addWidget(self.button4)\n",
    "        #layout.addWidget(self.button5)\n",
    "        layout.addWidget(self.button6)\n",
    "        self.setLayout(layout)\n",
    "        \n",
    "    #def home(self):\n",
    "        #self.toolbar.home()\n",
    "    #def zoom(self):\n",
    "        #self.toolbar.zoom()\n",
    "    #def pan(self):\n",
    "        #self.toolbar.pan()\n",
    "        \n",
    "    def mag(self):\n",
    "        w, h = signal.freqz(np.array([1, -1]), 1, worN=np.linspace(-np.pi, np.pi, 100))\n",
    "        ax = self.figure.add_subplot(232)\n",
    "        ax.hold(False)\n",
    "        plt.plot(w, abs(h))\n",
    "        plt.xlim(np.min(w), np.max(w))\n",
    "        #self.canvas.draw()\n",
    "        \n",
    "    #def pha(self):\n",
    "        #w, h = signal.freqz(np.array([1, -1]), 1, worN=np.linspace(-np.pi, np.pi, 100))\n",
    "        ax2 = self.figure.add_subplot(235)\n",
    "        ax2.hold(False)\n",
    "        plt.plot(w, np.angle(h))\n",
    "        plt.xlim(np.min(w), np.max(w))\n",
    "        self.canvas.draw()\n",
    "    \n",
    "    def plotafter(self):\n",
    "        w, h = signal.freqz(np.array([1, -1]), 1, worN=np.linspace(-np.pi, np.pi, 100))\n",
    "        ax = self.figure.add_subplot(233)\n",
    "        ax.hold(False)\n",
    "        plt.plot(w, h)\n",
    "        self.canvas.draw()\n",
    "    \n",
    "    def plot(self):\n",
    "        d, a = self.showDialog()\n",
    "        t = np.linspace(0, 2*np.pi, 500)\n",
    "        data = d + a*np.cos(5*t)\n",
    "        ax = self.figure.add_subplot(231)\n",
    "        ax.hold(False)\n",
    "        plt.plot(t, data)\n",
    "        plt.xlim(np.min(t), np.max(t))\n",
    "        self.canvas.draw()  \n",
    "        \n",
    "    def showDialog(self):        \n",
    "        d, ok = QtGui.QInputDialog.getDouble(self, 'Input Dialog','Enter offset:',0 ,-100, 100, 2)\n",
    "        a, ok = QtGui.QInputDialog.getDouble(self, 'Input Dialog','Enter amplitude:',0 ,-100, 100, 2)\n",
    "        if ok:\n",
    "            return d, a\n",
    "\n",
    " \n",
    "if __name__ == '__main__':\n",
    "    app = QtGui.QApplication(sys.argv)\n",
    " \n",
    "    main = Window()\n",
    "    main.setWindowTitle('Simple QTpy and MatplotLib example with Zoom/Pan')\n",
    "    main.show()\n",
    " \n",
    "    sys.exit(app.exec_())"
   ]
  },
  {
   "cell_type": "code",
   "execution_count": null,
   "metadata": {
    "collapsed": true
   },
   "outputs": [],
   "source": []
  }
 ],
 "metadata": {
  "kernelspec": {
   "display_name": "Python 2",
   "language": "python",
   "name": "python2"
  },
  "language_info": {
   "codemirror_mode": {
    "name": "ipython",
    "version": 2
   },
   "file_extension": ".py",
   "mimetype": "text/x-python",
   "name": "python",
   "nbconvert_exporter": "python",
   "pygments_lexer": "ipython2",
   "version": "2.7.6"
  }
 },
 "nbformat": 4,
 "nbformat_minor": 0
}
